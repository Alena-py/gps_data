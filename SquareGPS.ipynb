{
  "cells": [
    {
      "cell_type": "code",
      "execution_count": 105,
      "metadata": {
        "id": "Cw6Njvcn_S0O"
      },
      "outputs": [],
      "source": [
        "import os\n",
        "os.environ[\"JAVA_HOME\"] = \"/usr/lib/jvm/java-8-openjdk-amd64\"\n",
        "os.environ[\"SPARK_HOME\"] = \"/content/spark-3.1.1-bin-hadoop3.2\""
      ]
    },
    {
      "cell_type": "code",
      "execution_count": 106,
      "metadata": {
        "id": "92RdSCvlq_AJ"
      },
      "outputs": [],
      "source": [
        "!apt-get install openjdk-8-jdk-headless -qq > /dev/null\n",
        "!wget -q http://archive.apache.org/dist/spark/spark-3.1.1/spark-3.1.1-bin-hadoop3.2.tgz\n",
        "!tar xf spark-3.1.1-bin-hadoop3.2.tgz\n",
        "!pip install -q findspark"
      ]
    },
    {
      "cell_type": "code",
      "execution_count": 107,
      "metadata": {
        "id": "89cHFZjNzed6"
      },
      "outputs": [],
      "source": [
        "import findspark\n",
        "findspark.init()\n",
        "from pyspark.sql import SparkSession\n",
        "spark = SparkSession.builder \\\n",
        "    .appName(\"Squaregps\") \\\n",
        "    .config(\"spark.executor.memory\", \"4g\") \\\n",
        "    .config(\"spark.executor.cores\", \"2\") \\\n",
        "    .config(\"spark.sql.shuffle.partitions\", \"200\") \\\n",
        "    .getOrCreate()\n"
      ]
    },
    {
      "cell_type": "code",
      "execution_count": 108,
      "metadata": {
        "id": "ORmKn4gSrFTZ"
      },
      "outputs": [],
      "source": [
        "#import pyspark.sql.functions as F\n",
        "from pyspark.sql.types import *\n",
        "from pyspark.sql.functions import *\n",
        "from pyspark.sql.window import Window\n",
        "from datetime import datetime\n",
        "import numpy as np\n",
        "import pandas as pd\n",
        "from time import sleep"
      ]
    },
    {
      "cell_type": "code",
      "source": [
        "from geopy.geocoders import Nominatim\n",
        "from geopy.point import Point\n",
        "\n",
        "geolocator = Nominatim(user_agent=\"test\")\n",
        "geocode_cache = {}\n",
        "\n",
        "def reverse_geocoding(lat, lng, retries=3):\n",
        "    key = (lat, lng)\n",
        "    if key in geocode_cache:\n",
        "        return geocode_cache[key]\n",
        "    for _ in range(retries):\n",
        "        try:\n",
        "            location = geolocator.reverse((lat, lng), timeout=60)\n",
        "            address = location.address if location else (lat, lng)\n",
        "            geocode_cache[key] = address\n",
        "            return address\n",
        "        except Exception as e:\n",
        "            print(f\"Geocoding error: {e}, retrying...\")\n",
        "            sleep(1)\n",
        "    return (lat, lng)\n",
        ""
      ],
      "metadata": {
        "id": "heR0KPb8PmDV"
      },
      "execution_count": 109,
      "outputs": []
    },
    {
      "cell_type": "code",
      "execution_count": 110,
      "metadata": {
        "id": "3npEpZ6K0gEu"
      },
      "outputs": [],
      "source": [
        "def parse_timestamp(ts_str):\n",
        "    try:\n",
        "        # Parse the timestamp string to a datetime object\n",
        "        dt = datetime.strptime(ts_str, '%Y-%m-%dT%H:%M:%S%z')\n",
        "        return dt\n",
        "    except Exception as e:\n",
        "        print(f\"Error parsing timestamp {ts_str}: {e}\")\n",
        "        return None\n",
        "\n",
        "parse_timestamp_udf = udf(parse_timestamp, TimestampType())\n",
        "\n"
      ]
    },
    {
      "cell_type": "code",
      "execution_count": 111,
      "metadata": {
        "id": "U4xjs6vpVq6H"
      },
      "outputs": [],
      "source": [
        "df = spark.read \\\n",
        ".option(\"inferSchema\", \"true\") \\\n",
        ".option(\"header\", \"true\").csv(\"/content/Untitled_raw_data.csv\")"
      ]
    },
    {
      "cell_type": "code",
      "source": [
        "# Convert `msg_time` to timestamp type\n",
        "df = df.withColumn('msg_time', parse_timestamp_udf(col('msg_time')))"
      ],
      "metadata": {
        "id": "dA2H_X1d3V30"
      },
      "execution_count": 112,
      "outputs": []
    },
    {
      "cell_type": "code",
      "execution_count": 113,
      "metadata": {
        "id": "xivFzSDl7vcK"
      },
      "outputs": [],
      "source": [
        "# Calculate time difference between rows (in seconds)\n",
        "window_spec = Window.orderBy('msg_time')\n",
        "df = df.withColumn('time_diff', (unix_timestamp(col('msg_time')) - unix_timestamp(lag('msg_time').over(window_spec))).cast('int'))\n",
        "\n",
        "# Create a column to identify periods of speed < 5 km/h\n",
        "df = df.withColumn('below_5', when(col('speed') < 5, 1).otherwise(0))\n"
      ]
    },
    {
      "cell_type": "code",
      "execution_count": 114,
      "metadata": {
        "id": "2kaXGDwXYTtr"
      },
      "outputs": [],
      "source": [
        "# Flagging the start and end of parking periods\n",
        "# A parking start is flagged when the speed drops below 5 km/h after being above 5 km/h.\n",
        "# A parking end is flagged when the speed rises above 5 km/h after being below 5 km/h.\n",
        "\n",
        "df = df.withColumn('parking_start_flag', when((col('below_5') == 1) & (lag('below_5').over(window_spec) == 0), 1).otherwise(0))\n",
        "df = df.withColumn('parking_end_flag', when((col('below_5') == 1) & (lead('below_5').over(window_spec) == 0), 1).otherwise(0))\n",
        "\n",
        "# Removing rows without moving\n",
        "df = df.where(\"not (below_5 == 1 and parking_start_flag == 0 and parking_end_flag == 0)\")"
      ]
    },
    {
      "cell_type": "code",
      "execution_count": 115,
      "metadata": {
        "id": "jxkiAgCEKEnU"
      },
      "outputs": [],
      "source": [
        "# calculate the time difference between the start and end of parking periods.\n",
        "df = df.withColumn('parking_diff', (unix_timestamp(col('msg_time')) - unix_timestamp(lag('msg_time').over(window_spec))))\n",
        "df = df.withColumn('parking_diff_2', lead('parking_diff').over(window_spec))\\\n",
        ".withColumn('next_parking_flag', lag('parking_end_flag').over(window_spec))\n",
        "#it is long enough for parking\n",
        "df = df.withColumn('is_parking', expr('parking_diff > 180 or parking_diff_2 > 180'))"
      ]
    },
    {
      "cell_type": "code",
      "source": [
        "df.limit(10).show()"
      ],
      "metadata": {
        "colab": {
          "base_uri": "https://localhost:8080/"
        },
        "id": "WTSgo7FQqite",
        "outputId": "7a989e89-b901-4bc9-f5fc-cc1b878fbcb6"
      },
      "execution_count": 116,
      "outputs": [
        {
          "output_type": "stream",
          "name": "stdout",
          "text": [
            "+-------------------+-----------+------------+-----+----+---------+-------+------------------+----------------+------------+--------------+-----------------+----------+\n",
            "|           msg_time|        lat|         lng|speed|fuel|time_diff|below_5|parking_start_flag|parking_end_flag|parking_diff|parking_diff_2|next_parking_flag|is_parking|\n",
            "+-------------------+-----------+------------+-----+----+---------+-------+------------------+----------------+------------+--------------+-----------------+----------+\n",
            "|2024-06-30 23:07:26|40.94801833|-74.23513833|    0|  \\N|        5|      1|                 0|               1|        null|             1|             null|      null|\n",
            "|2024-06-30 23:07:27|40.94801833|-74.23513833|   33|  \\N|        1|      0|                 0|               0|           1|             8|                1|     false|\n",
            "|2024-06-30 23:07:35|40.94766667|-74.23623667|   49|  \\N|        8|      0|                 0|               0|           8|             5|                0|     false|\n",
            "|2024-06-30 23:07:40|40.94735167|-74.23689167|   57|  \\N|        5|      0|                 0|               0|           5|             5|                0|     false|\n",
            "|2024-06-30 23:07:45|   40.94713|-74.23758333|   54|  \\N|        5|      0|                 0|               0|           5|             4|                0|     false|\n",
            "|2024-06-30 23:07:49|40.94705667|-74.23833833|   47|  \\N|        4|      0|                 0|               0|           4|             6|                0|     false|\n",
            "|2024-06-30 23:07:55|  40.946955|-74.23928167|   45|  \\N|        6|      0|                 0|               0|           6|             6|                0|     false|\n",
            "|2024-06-30 23:08:01|   40.94684|-74.24041667|   54|  \\N|        6|      0|                 0|               0|           6|             5|                0|     false|\n",
            "|2024-06-30 23:08:06|40.94675167|  -74.241295|   54|  \\N|        5|      0|                 0|               0|           5|             5|                0|     false|\n",
            "|2024-06-30 23:08:11|40.94657333|-74.24234167|   51|  \\N|        5|      0|                 0|               0|           5|             3|                0|     false|\n",
            "+-------------------+-----------+------------+-----+----+---------+-------+------------------+----------------+------------+--------------+-----------------+----------+\n",
            "\n"
          ]
        }
      ]
    },
    {
      "cell_type": "code",
      "source": [
        "#Identify trips\n",
        "df = df.withColumn('trip_start_flag', expr(\"case when next_parking_flag = 1 and not is_parking then 1 else 0 end\"))\n",
        "df = df.withColumn('trip_end_flag', expr(\"case when parking_start_flag = 1 and is_parking then 1 else 0 end\"))"
      ],
      "metadata": {
        "id": "DZ6h9b8lrwev"
      },
      "execution_count": 117,
      "outputs": []
    },
    {
      "cell_type": "code",
      "execution_count": 118,
      "metadata": {
        "id": "gHcIMEXiwmmP"
      },
      "outputs": [],
      "source": [
        "# Assign a trip ID\n",
        "df = df.withColumn('trip_id', expr('sum(trip_start_flag) over (order by msg_time rows between unbounded preceding and current row)'))"
      ]
    },
    {
      "cell_type": "code",
      "execution_count": 119,
      "metadata": {
        "id": "tYKwWUAhNctm"
      },
      "outputs": [],
      "source": [
        "#сalculate speed_max #avg speed\n",
        "df = df.withColumn('speed_max', max('speed').over(Window.partitionBy('trip_id')))\n",
        "\n",
        "df = df.withColumn('trip_dur', sum(expr('case when trip_end_flag =1 then 0 else time_diff end')).over(Window.partitionBy('trip_id')))\n",
        "df = df.withColumn('distance', (col('speed') * col('time_diff')) / 3600)\n",
        "df = df.withColumn('trip_distance', sum(expr('case when trip_end_flag =1 then 0 else distance end')).over(Window.partitionBy('trip_id')))\n",
        "df = df.withColumn('avg_speed',  round(col('trip_distance') / (col('trip_dur') / 3600), 2))"
      ]
    },
    {
      "cell_type": "code",
      "source": [
        "# Only keep rows that mark the start or end of trips.\n",
        "trips = df.where(\"trip_start_flag = 1 or trip_end_flag = 1\") \\\n",
        ".withColumn('trip_start_dttm', min('msg_time').over(Window.partitionBy('trip_id'))) \\\n",
        ".withColumn('trip_end_dttm', max('msg_time').over(Window.partitionBy('trip_id'))) \\\n",
        ".withColumn('end_lat', lead('lat').over(Window.partitionBy('trip_id').orderBy('msg_time'))) \\\n",
        ".withColumn('end_lng', lead('lng').over(Window.partitionBy('trip_id').orderBy('msg_time'))) \\\n",
        ".select('trip_id', 'trip_start_dttm', 'trip_end_dttm', col('lat').alias('start_lat'), col('lng').alias('start_lng'),'end_lat', 'end_lng','speed_max', 'avg_speed')  \\\n",
        "\n",
        "# collapse to only one row per trip\n",
        "trips = trips.withColumn(\"rn\", row_number().over(Window.partitionBy('trip_id').orderBy('trip_start_dttm')))  \\\n",
        "    .select('trip_id', 'trip_start_dttm', 'trip_end_dttm', 'start_lat', 'start_lng', 'end_lat', 'end_lng', 'speed_max', 'avg_speed')  \\\n",
        "    .where(\"rn = 1\")"
      ],
      "metadata": {
        "id": "3UtXpSwhFCRe"
      },
      "execution_count": 121,
      "outputs": []
    },
    {
      "cell_type": "code",
      "source": [
        "trips.count()"
      ],
      "metadata": {
        "id": "n9wTGod1Iz_X",
        "colab": {
          "base_uri": "https://localhost:8080/"
        },
        "outputId": "da353fa7-4da7-4f82-d89f-1eac143912d6"
      },
      "execution_count": 122,
      "outputs": [
        {
          "output_type": "execute_result",
          "data": {
            "text/plain": [
              "487"
            ]
          },
          "metadata": {},
          "execution_count": 122
        }
      ]
    },
    {
      "cell_type": "code",
      "source": [
        "trips.show()"
      ],
      "metadata": {
        "id": "bWlUsTFeMSdn",
        "colab": {
          "base_uri": "https://localhost:8080/"
        },
        "outputId": "51e330ea-8d06-4b94-be9d-71c1c31c5b41"
      },
      "execution_count": 123,
      "outputs": [
        {
          "output_type": "stream",
          "name": "stdout",
          "text": [
            "+-------+-------------------+-------------------+-----------+------------+-----------+------------+---------+---------+\n",
            "|trip_id|    trip_start_dttm|      trip_end_dttm|  start_lat|   start_lng|    end_lat|     end_lng|speed_max|avg_speed|\n",
            "+-------+-------------------+-------------------+-----------+------------+-----------+------------+---------+---------+\n",
            "|      1|2024-06-30 23:07:27|2024-06-30 23:27:57|40.94801833|-74.23513833|40.97530167|-74.16303833|       59|    43.43|\n",
            "|      2|2024-06-30 23:37:53|2024-07-01 00:03:28|40.97530167|-74.16303833|41.02764333|-74.03736333|       59|    43.79|\n",
            "|      3|2024-07-01 00:13:24|2024-07-01 00:25:23|41.02764333|-74.03736333|40.96947333|-74.06209667|       59|    43.99|\n",
            "|      4|2024-07-01 00:35:20|2024-07-01 00:48:34|40.96947333|-74.06209667|  40.915215|-74.01376167|       59|    44.23|\n",
            "|      5|2024-07-01 00:58:30|2024-07-01 01:11:45|  40.915215|-74.01376167|40.99088833|   -73.97123|       59|    43.02|\n",
            "|      6|2024-07-01 01:21:41|2024-07-01 01:45:36|40.99088833|   -73.97123|40.96646833|-74.12296333|       59|    41.42|\n",
            "|      7|2024-07-01 01:55:32|2024-07-01 02:12:41|40.96646833|  -74.122965|40.99110333|    -74.0226|       59|    42.51|\n",
            "|      8|2024-07-01 02:22:38|2024-07-01 02:33:27|40.99110333|    -74.0226|40.99786667|-74.09415167|       59|    43.07|\n",
            "|      9|2024-07-01 02:43:23|2024-07-01 02:55:52|40.99786667|-74.09415167|40.98945167|   -74.15675|       59|    42.31|\n",
            "|     10|2024-07-01 03:05:49|2024-07-01 03:16:28|40.98945167|   -74.15675|  40.937445|-74.15359667|       59|    42.23|\n",
            "|     11|2024-07-01 03:26:24|2024-07-01 03:36:19|  40.937445|-74.15359667|40.96370167|-74.09910833|       59|    43.48|\n",
            "|     12|2024-07-01 03:46:15|2024-07-01 04:06:49|40.96370167|-74.09910833|40.86738333|-74.11326167|       59|     43.1|\n",
            "|     13|2024-07-01 04:16:46|2024-07-01 04:26:25|40.86738333|-74.11326167|40.82535167|-74.15987333|       59|    43.49|\n",
            "|     14|2024-07-01 04:36:21|2024-07-01 04:53:41|40.82535167|-74.15987333|40.85575333|-74.08736167|       59|    44.26|\n",
            "|     15|2024-07-01 05:03:37|2024-07-01 05:21:31|40.85575333|-74.08736167|40.80700833|  -74.166755|       59|    43.34|\n",
            "|     16|2024-07-01 05:31:28|2024-07-01 05:49:42|40.80700833|  -74.166755|40.77968167|-74.24406167|       59|    44.06|\n",
            "|     17|2024-07-01 05:59:39|2024-07-01 06:09:58|40.77968167|-74.24406167|40.74339167|-74.17773833|       59|    42.21|\n",
            "|     18|2024-07-01 06:19:54|2024-07-01 06:42:19|40.74339167|-74.17773833|40.84507333|-74.24642833|       59|    41.87|\n",
            "|     19|2024-07-01 06:52:15|2024-07-01 07:12:35|40.84507333|-74.24642833|  40.772375|-74.11660833|       59|    43.67|\n",
            "|     20|2024-07-01 07:22:31|2024-07-01 07:40:40|  40.772375|-74.11660833|40.83356833|-74.17704333|       59|    43.39|\n",
            "+-------+-------------------+-------------------+-----------+------------+-----------+------------+---------+---------+\n",
            "only showing top 20 rows\n",
            "\n"
          ]
        }
      ]
    },
    {
      "cell_type": "code",
      "execution_count": 124,
      "metadata": {
        "id": "RY9e97T9jbhC"
      },
      "outputs": [],
      "source": [
        "#  Convert a pandas df\n",
        "trips_pd_start = trips.select(col('trip_id'),col('start_lat'),col('start_lng'))\\\n",
        ".toPandas()\n",
        "trips_pd_end = trips.select(col('trip_id'),col('end_lat').alias('start_lat'),col('end_lng').alias('start_lng'))\\\n",
        ".toPandas()"
      ]
    },
    {
      "cell_type": "code",
      "source": [
        "# Concatenate start and end trip points\n",
        "frames = [trips_pd_start, trips_pd_end]\n",
        "result = pd.concat(frames).drop_duplicates().dropna()"
      ],
      "metadata": {
        "id": "pmP1PkDtOokz"
      },
      "execution_count": 125,
      "outputs": []
    },
    {
      "cell_type": "code",
      "execution_count": 126,
      "metadata": {
        "id": "lAhPTb8rj8GI"
      },
      "outputs": [],
      "source": [
        "#get addresses for the lat/lng points\n",
        "result['address'] = np.vectorize(reverse_geocoding)(result['start_lat'], result['start_lng'])"
      ]
    },
    {
      "cell_type": "code",
      "execution_count": 127,
      "metadata": {
        "id": "9UvglpTljqrX",
        "colab": {
          "base_uri": "https://localhost:8080/",
          "height": 206
        },
        "outputId": "1a73d6ae-bb8c-4a3d-82b7-af94977f4cdf"
      },
      "outputs": [
        {
          "output_type": "execute_result",
          "data": {
            "text/plain": [
              "   trip_id  start_lat  start_lng  \\\n",
              "0        1  40.948018 -74.235138   \n",
              "1        2  40.975302 -74.163038   \n",
              "2        3  41.027643 -74.037363   \n",
              "3        4  40.969473 -74.062097   \n",
              "4        5  40.915215 -74.013762   \n",
              "\n",
              "                                             address  \n",
              "0  Preakness HIlls Country Club, 1050, Ratzer Roa...  \n",
              "1  34, Orchard Place, Hawthorne, Passaic County, ...  \n",
              "2  88, Chadwick Court, Park Ridge, Bergen County,...  \n",
              "3  740, Pascack Road, Paramus, Bergen County, New...  \n",
              "4  158, Baker Avenue, Surrey Lane Estates, Bergen...  "
            ],
            "text/html": [
              "\n",
              "  <div id=\"df-b6258655-fb61-434a-8632-207c59399308\" class=\"colab-df-container\">\n",
              "    <div>\n",
              "<style scoped>\n",
              "    .dataframe tbody tr th:only-of-type {\n",
              "        vertical-align: middle;\n",
              "    }\n",
              "\n",
              "    .dataframe tbody tr th {\n",
              "        vertical-align: top;\n",
              "    }\n",
              "\n",
              "    .dataframe thead th {\n",
              "        text-align: right;\n",
              "    }\n",
              "</style>\n",
              "<table border=\"1\" class=\"dataframe\">\n",
              "  <thead>\n",
              "    <tr style=\"text-align: right;\">\n",
              "      <th></th>\n",
              "      <th>trip_id</th>\n",
              "      <th>start_lat</th>\n",
              "      <th>start_lng</th>\n",
              "      <th>address</th>\n",
              "    </tr>\n",
              "  </thead>\n",
              "  <tbody>\n",
              "    <tr>\n",
              "      <th>0</th>\n",
              "      <td>1</td>\n",
              "      <td>40.948018</td>\n",
              "      <td>-74.235138</td>\n",
              "      <td>Preakness HIlls Country Club, 1050, Ratzer Roa...</td>\n",
              "    </tr>\n",
              "    <tr>\n",
              "      <th>1</th>\n",
              "      <td>2</td>\n",
              "      <td>40.975302</td>\n",
              "      <td>-74.163038</td>\n",
              "      <td>34, Orchard Place, Hawthorne, Passaic County, ...</td>\n",
              "    </tr>\n",
              "    <tr>\n",
              "      <th>2</th>\n",
              "      <td>3</td>\n",
              "      <td>41.027643</td>\n",
              "      <td>-74.037363</td>\n",
              "      <td>88, Chadwick Court, Park Ridge, Bergen County,...</td>\n",
              "    </tr>\n",
              "    <tr>\n",
              "      <th>3</th>\n",
              "      <td>4</td>\n",
              "      <td>40.969473</td>\n",
              "      <td>-74.062097</td>\n",
              "      <td>740, Pascack Road, Paramus, Bergen County, New...</td>\n",
              "    </tr>\n",
              "    <tr>\n",
              "      <th>4</th>\n",
              "      <td>5</td>\n",
              "      <td>40.915215</td>\n",
              "      <td>-74.013762</td>\n",
              "      <td>158, Baker Avenue, Surrey Lane Estates, Bergen...</td>\n",
              "    </tr>\n",
              "  </tbody>\n",
              "</table>\n",
              "</div>\n",
              "    <div class=\"colab-df-buttons\">\n",
              "\n",
              "  <div class=\"colab-df-container\">\n",
              "    <button class=\"colab-df-convert\" onclick=\"convertToInteractive('df-b6258655-fb61-434a-8632-207c59399308')\"\n",
              "            title=\"Convert this dataframe to an interactive table.\"\n",
              "            style=\"display:none;\">\n",
              "\n",
              "  <svg xmlns=\"http://www.w3.org/2000/svg\" height=\"24px\" viewBox=\"0 -960 960 960\">\n",
              "    <path d=\"M120-120v-720h720v720H120Zm60-500h600v-160H180v160Zm220 220h160v-160H400v160Zm0 220h160v-160H400v160ZM180-400h160v-160H180v160Zm440 0h160v-160H620v160ZM180-180h160v-160H180v160Zm440 0h160v-160H620v160Z\"/>\n",
              "  </svg>\n",
              "    </button>\n",
              "\n",
              "  <style>\n",
              "    .colab-df-container {\n",
              "      display:flex;\n",
              "      gap: 12px;\n",
              "    }\n",
              "\n",
              "    .colab-df-convert {\n",
              "      background-color: #E8F0FE;\n",
              "      border: none;\n",
              "      border-radius: 50%;\n",
              "      cursor: pointer;\n",
              "      display: none;\n",
              "      fill: #1967D2;\n",
              "      height: 32px;\n",
              "      padding: 0 0 0 0;\n",
              "      width: 32px;\n",
              "    }\n",
              "\n",
              "    .colab-df-convert:hover {\n",
              "      background-color: #E2EBFA;\n",
              "      box-shadow: 0px 1px 2px rgba(60, 64, 67, 0.3), 0px 1px 3px 1px rgba(60, 64, 67, 0.15);\n",
              "      fill: #174EA6;\n",
              "    }\n",
              "\n",
              "    .colab-df-buttons div {\n",
              "      margin-bottom: 4px;\n",
              "    }\n",
              "\n",
              "    [theme=dark] .colab-df-convert {\n",
              "      background-color: #3B4455;\n",
              "      fill: #D2E3FC;\n",
              "    }\n",
              "\n",
              "    [theme=dark] .colab-df-convert:hover {\n",
              "      background-color: #434B5C;\n",
              "      box-shadow: 0px 1px 3px 1px rgba(0, 0, 0, 0.15);\n",
              "      filter: drop-shadow(0px 1px 2px rgba(0, 0, 0, 0.3));\n",
              "      fill: #FFFFFF;\n",
              "    }\n",
              "  </style>\n",
              "\n",
              "    <script>\n",
              "      const buttonEl =\n",
              "        document.querySelector('#df-b6258655-fb61-434a-8632-207c59399308 button.colab-df-convert');\n",
              "      buttonEl.style.display =\n",
              "        google.colab.kernel.accessAllowed ? 'block' : 'none';\n",
              "\n",
              "      async function convertToInteractive(key) {\n",
              "        const element = document.querySelector('#df-b6258655-fb61-434a-8632-207c59399308');\n",
              "        const dataTable =\n",
              "          await google.colab.kernel.invokeFunction('convertToInteractive',\n",
              "                                                    [key], {});\n",
              "        if (!dataTable) return;\n",
              "\n",
              "        const docLinkHtml = 'Like what you see? Visit the ' +\n",
              "          '<a target=\"_blank\" href=https://colab.research.google.com/notebooks/data_table.ipynb>data table notebook</a>'\n",
              "          + ' to learn more about interactive tables.';\n",
              "        element.innerHTML = '';\n",
              "        dataTable['output_type'] = 'display_data';\n",
              "        await google.colab.output.renderOutput(dataTable, element);\n",
              "        const docLink = document.createElement('div');\n",
              "        docLink.innerHTML = docLinkHtml;\n",
              "        element.appendChild(docLink);\n",
              "      }\n",
              "    </script>\n",
              "  </div>\n",
              "\n",
              "\n",
              "<div id=\"df-e540f103-13f2-48a2-ab9b-833ebc5524a3\">\n",
              "  <button class=\"colab-df-quickchart\" onclick=\"quickchart('df-e540f103-13f2-48a2-ab9b-833ebc5524a3')\"\n",
              "            title=\"Suggest charts\"\n",
              "            style=\"display:none;\">\n",
              "\n",
              "<svg xmlns=\"http://www.w3.org/2000/svg\" height=\"24px\"viewBox=\"0 0 24 24\"\n",
              "     width=\"24px\">\n",
              "    <g>\n",
              "        <path d=\"M19 3H5c-1.1 0-2 .9-2 2v14c0 1.1.9 2 2 2h14c1.1 0 2-.9 2-2V5c0-1.1-.9-2-2-2zM9 17H7v-7h2v7zm4 0h-2V7h2v10zm4 0h-2v-4h2v4z\"/>\n",
              "    </g>\n",
              "</svg>\n",
              "  </button>\n",
              "\n",
              "<style>\n",
              "  .colab-df-quickchart {\n",
              "      --bg-color: #E8F0FE;\n",
              "      --fill-color: #1967D2;\n",
              "      --hover-bg-color: #E2EBFA;\n",
              "      --hover-fill-color: #174EA6;\n",
              "      --disabled-fill-color: #AAA;\n",
              "      --disabled-bg-color: #DDD;\n",
              "  }\n",
              "\n",
              "  [theme=dark] .colab-df-quickchart {\n",
              "      --bg-color: #3B4455;\n",
              "      --fill-color: #D2E3FC;\n",
              "      --hover-bg-color: #434B5C;\n",
              "      --hover-fill-color: #FFFFFF;\n",
              "      --disabled-bg-color: #3B4455;\n",
              "      --disabled-fill-color: #666;\n",
              "  }\n",
              "\n",
              "  .colab-df-quickchart {\n",
              "    background-color: var(--bg-color);\n",
              "    border: none;\n",
              "    border-radius: 50%;\n",
              "    cursor: pointer;\n",
              "    display: none;\n",
              "    fill: var(--fill-color);\n",
              "    height: 32px;\n",
              "    padding: 0;\n",
              "    width: 32px;\n",
              "  }\n",
              "\n",
              "  .colab-df-quickchart:hover {\n",
              "    background-color: var(--hover-bg-color);\n",
              "    box-shadow: 0 1px 2px rgba(60, 64, 67, 0.3), 0 1px 3px 1px rgba(60, 64, 67, 0.15);\n",
              "    fill: var(--button-hover-fill-color);\n",
              "  }\n",
              "\n",
              "  .colab-df-quickchart-complete:disabled,\n",
              "  .colab-df-quickchart-complete:disabled:hover {\n",
              "    background-color: var(--disabled-bg-color);\n",
              "    fill: var(--disabled-fill-color);\n",
              "    box-shadow: none;\n",
              "  }\n",
              "\n",
              "  .colab-df-spinner {\n",
              "    border: 2px solid var(--fill-color);\n",
              "    border-color: transparent;\n",
              "    border-bottom-color: var(--fill-color);\n",
              "    animation:\n",
              "      spin 1s steps(1) infinite;\n",
              "  }\n",
              "\n",
              "  @keyframes spin {\n",
              "    0% {\n",
              "      border-color: transparent;\n",
              "      border-bottom-color: var(--fill-color);\n",
              "      border-left-color: var(--fill-color);\n",
              "    }\n",
              "    20% {\n",
              "      border-color: transparent;\n",
              "      border-left-color: var(--fill-color);\n",
              "      border-top-color: var(--fill-color);\n",
              "    }\n",
              "    30% {\n",
              "      border-color: transparent;\n",
              "      border-left-color: var(--fill-color);\n",
              "      border-top-color: var(--fill-color);\n",
              "      border-right-color: var(--fill-color);\n",
              "    }\n",
              "    40% {\n",
              "      border-color: transparent;\n",
              "      border-right-color: var(--fill-color);\n",
              "      border-top-color: var(--fill-color);\n",
              "    }\n",
              "    60% {\n",
              "      border-color: transparent;\n",
              "      border-right-color: var(--fill-color);\n",
              "    }\n",
              "    80% {\n",
              "      border-color: transparent;\n",
              "      border-right-color: var(--fill-color);\n",
              "      border-bottom-color: var(--fill-color);\n",
              "    }\n",
              "    90% {\n",
              "      border-color: transparent;\n",
              "      border-bottom-color: var(--fill-color);\n",
              "    }\n",
              "  }\n",
              "</style>\n",
              "\n",
              "  <script>\n",
              "    async function quickchart(key) {\n",
              "      const quickchartButtonEl =\n",
              "        document.querySelector('#' + key + ' button');\n",
              "      quickchartButtonEl.disabled = true;  // To prevent multiple clicks.\n",
              "      quickchartButtonEl.classList.add('colab-df-spinner');\n",
              "      try {\n",
              "        const charts = await google.colab.kernel.invokeFunction(\n",
              "            'suggestCharts', [key], {});\n",
              "      } catch (error) {\n",
              "        console.error('Error during call to suggestCharts:', error);\n",
              "      }\n",
              "      quickchartButtonEl.classList.remove('colab-df-spinner');\n",
              "      quickchartButtonEl.classList.add('colab-df-quickchart-complete');\n",
              "    }\n",
              "    (() => {\n",
              "      let quickchartButtonEl =\n",
              "        document.querySelector('#df-e540f103-13f2-48a2-ab9b-833ebc5524a3 button');\n",
              "      quickchartButtonEl.style.display =\n",
              "        google.colab.kernel.accessAllowed ? 'block' : 'none';\n",
              "    })();\n",
              "  </script>\n",
              "</div>\n",
              "    </div>\n",
              "  </div>\n"
            ],
            "application/vnd.google.colaboratory.intrinsic+json": {
              "type": "dataframe",
              "variable_name": "result",
              "summary": "{\n  \"name\": \"result\",\n  \"rows\": 973,\n  \"fields\": [\n    {\n      \"column\": \"trip_id\",\n      \"properties\": {\n        \"dtype\": \"number\",\n        \"std\": 140,\n        \"min\": 1,\n        \"max\": 487,\n        \"num_unique_values\": 487,\n        \"samples\": [\n          73,\n          245,\n          438\n        ],\n        \"semantic_type\": \"\",\n        \"description\": \"\"\n      }\n    },\n    {\n      \"column\": \"start_lat\",\n      \"properties\": {\n        \"dtype\": \"number\",\n        \"std\": 0.1189141429002161,\n        \"min\": 40.54712833,\n        \"max\": 41.03962,\n        \"num_unique_values\": 509,\n        \"samples\": [\n          40.819635,\n          40.91725333,\n          40.64553667\n        ],\n        \"semantic_type\": \"\",\n        \"description\": \"\"\n      }\n    },\n    {\n      \"column\": \"start_lng\",\n      \"properties\": {\n        \"dtype\": \"number\",\n        \"std\": 0.14951556772907282,\n        \"min\": -74.30277833,\n        \"max\": -73.61655667,\n        \"num_unique_values\": 516,\n        \"samples\": [\n          -73.81442333,\n          -73.85845167,\n          -74.04716167\n        ],\n        \"semantic_type\": \"\",\n        \"description\": \"\"\n      }\n    },\n    {\n      \"column\": \"address\",\n      \"properties\": {\n        \"dtype\": \"category\",\n        \"num_unique_values\": 476,\n        \"samples\": [\n          \"New Jersey Turnpike Newark Bay Extension, Newark, Essex County, New Jersey, 07105, United States\",\n          \"Lindbergh Boulevard, Copley Estates, Teaneck Township, Bergen County, New Jersey, 07666, United States\",\n          \"99, Buckingham Place, Old Tappan, Bergen County, New Jersey, 07675, United States\"\n        ],\n        \"semantic_type\": \"\",\n        \"description\": \"\"\n      }\n    }\n  ]\n}"
            }
          },
          "metadata": {},
          "execution_count": 127
        }
      ],
      "source": [
        "result.head()"
      ]
    },
    {
      "cell_type": "code",
      "execution_count": 128,
      "metadata": {
        "id": "QNLElvkF1GiW"
      },
      "outputs": [],
      "source": [
        "from pyspark.sql import Row\n",
        "\n",
        "# Convert Pandas DataFrame to list of Rows and Create Spark DataFrame\n",
        "rows = [Row(**row) for row in result.to_dict(orient='records')]\n",
        "trips_with_addresses = spark.createDataFrame(rows)\n"
      ]
    },
    {
      "cell_type": "code",
      "source": [
        "start = trips_with_addresses.alias('start')"
      ],
      "metadata": {
        "id": "D7qJUlZB2Nf9"
      },
      "execution_count": 129,
      "outputs": []
    },
    {
      "cell_type": "code",
      "execution_count": 130,
      "metadata": {
        "id": "h65_rcJrxgCl",
        "collapsed": true
      },
      "outputs": [],
      "source": [
        "# Join the detailed trip information (trip_id, start/end lat/lng) with the addresses\n",
        "\n",
        "trips_with_details = trips.join(\n",
        "    start,\n",
        "    ((trips.trip_id == start.trip_id) &\n",
        "    (trips.start_lat == start.start_lat) &\n",
        "    (trips.start_lng == start.start_lng)) ,\n",
        "    'left'\n",
        ").select(\n",
        "    trips.trip_id,\n",
        "    trips.trip_start_dttm,\n",
        "    trips.trip_end_dttm,\n",
        "    trips.end_lat,\n",
        "    trips.end_lng,\n",
        "    trips.speed_max,\n",
        "    trips.avg_speed,\n",
        "    start.address.alias('Address Start'))\n",
        "\n",
        "\n"
      ]
    },
    {
      "cell_type": "code",
      "source": [
        "final_result = trips_with_details.join(\n",
        "    trips_with_addresses,\n",
        "    ((trips_with_details.trip_id == trips_with_addresses.trip_id) &\n",
        "    (trips_with_details.end_lat == trips_with_addresses.start_lat) &\n",
        "    (trips_with_details.end_lng == trips_with_addresses.start_lng) ),\n",
        "    'left'  \\\n",
        ").select( \\\n",
        "    trips.trip_id,  \\\n",
        "    trips.trip_start_dttm,\n",
        "    trips.trip_end_dttm,\n",
        "    col('Address Start'),\n",
        "    trips_with_addresses.address.alias('Address End'),\n",
        "    trips.avg_speed.alias('Speed Average') ,\n",
        "    trips.speed_max.alias('Speed Max'))\n"
      ],
      "metadata": {
        "id": "wD5Mwa0p7nKZ"
      },
      "execution_count": 135,
      "outputs": []
    },
    {
      "cell_type": "code",
      "source": [
        "\n",
        "# Show the resulting DataFrame\n",
        "final_result.show(truncate=False)"
      ],
      "metadata": {
        "colab": {
          "base_uri": "https://localhost:8080/"
        },
        "id": "OKjz4Wgy9tb_",
        "outputId": "066f85b2-6515-4af3-c8ec-bd4d337afced"
      },
      "execution_count": 136,
      "outputs": [
        {
          "output_type": "stream",
          "name": "stdout",
          "text": [
            "+-------+-------------------+-------------------+-----------------------------------------------------------------------------------------------------------------------------------------------------+------------------------------------------------------------------------------------------------------------------------------------------------+-------------+---------+\n",
            "|trip_id|trip_start_dttm    |trip_end_dttm      |Address Start                                                                                                                                        |Address End                                                                                                                                     |Speed Average|Speed Max|\n",
            "+-------+-------------------+-------------------+-----------------------------------------------------------------------------------------------------------------------------------------------------+------------------------------------------------------------------------------------------------------------------------------------------------+-------------+---------+\n",
            "|278    |2024-07-06 23:31:35|2024-07-06 23:42:34|164, Willow Avenue, Port Morris, Bronx County, The Bronx, City of New York, New York, 10454, United States                                           |Cross Bronx Expressway Service Road, Schuylerville, Bronx County, The Bronx, City of New York, New York, 10465, United States                   |42.24        |59       |\n",
            "|335    |2024-07-08 10:41:40|2024-07-08 10:55:09|443, 5th Street, Brooklyn, Kings County, City of New York, New York, 11215, United States                                                            |1336, 82nd Street, Brooklyn, Kings County, City of New York, New York, 11228, United States                                                     |43.6         |59       |\n",
            "|365    |2024-07-09 02:52:07|2024-07-12 06:29:32|9006, Seaview Avenue, Brooklyn, Kings County, City of New York, New York, 11236, United States                                                       |Fish House Road, Kearny, Hudson County, New Jersey, 07032, United States                                                                        |52.92        |59       |\n",
            "|374    |2024-07-12 11:20:31|2024-07-12 11:39:21|Formosa Street, Elizabeth, Union County, New Jersey, 07002, United States                                                                            |423, Duncan Avenue, Jersey City, Hudson County, New Jersey, 07306, United States                                                                |43.11        |59       |\n",
            "|173    |2024-07-04 16:31:25|2024-07-04 16:58:10|1158, Myrtle Avenue, Brooklyn, Kings County, City of New York, New York, 11221, United States                                                        |NJ 440, Jersey City, Hudson County, New Jersey, 07305, United States                                                                            |44.9         |59       |\n",
            "|263    |2024-07-06 15:45:32|2024-07-06 16:02:12|Caddell Boulevard, Staten Island, Richmond County, City of New York, New York, 10310, United States                                                  |99, Cedar Grove Beach Place, Staten Island, Richmond County, City of New York, New York, 10306, United States                                   |43.96        |59       |\n",
            "|146    |2024-07-04 01:45:08|2024-07-04 02:25:48|239, Surf Drive, Bronx County, The Bronx, City of New York, New York, 10473, United States                                                           |18, Cedar Lane, Estates of Sands Point, Village of Port Washington North, Town of North Hempstead, Nassau County, New York, 11050, United States|43.15        |59       |\n",
            "|401    |2024-07-13 03:26:55|2024-07-13 03:49:25|Tonnelle Avenue, Indian Square, Croxton, Jersey City, Hudson County, New Jersey, 07306, United States                                                |NJ 21, Passaic, Passaic County, New Jersey, 07055, United States                                                                                |44.34        |59       |\n",
            "|292    |2024-07-07 07:10:53|2024-07-07 07:26:02|20, Parsonage Point, City of Rye, Westchester County, New York, 10580, United States                                                                 |2, Pryer Lane, Village of Larchmont, Town of Mamaroneck, Westchester County, New York, 10538, United States                                     |43.54        |59       |\n",
            "|117    |2024-07-03 10:28:21|2024-07-03 10:59:36|George Washington Bridge, Fort Washington Park Greenway, Hudson Heights, Manhattan, New York County, City of New York, New York, 10033, United States|New Jersey Turnpike Eastern Spur, Undercliff Junction, Ridgefield, Bergen County, New Jersey, 97657, United States                              |42.65        |59       |\n",
            "|143    |2024-07-04 00:24:36|2024-07-04 00:36:10|1211, Wyatt Street, West Farms, Bronx County, The Bronx, City of New York, New York, 10460, United States                                            |839, Riverside Drive, Manhattan Community Board 12, Manhattan, New York County, City of New York, New York, 10032, United States                |42.03        |59       |\n",
            "|192    |2024-07-05 03:04:32|2024-07-05 03:25:02|73-5, 168th Street, Pomonok, Queens, Queens County, City of New York, New York, 11366, United States                                                 |Long Island Expressway, Roslyn Heights, Town of North Hempstead, Nassau County, New York, 11576, United States                                  |43.52        |59       |\n",
            "|4      |2024-07-01 00:35:20|2024-07-01 00:48:34|740, Pascack Road, Paramus, Bergen County, New Jersey, 07652, United States                                                                          |158, Baker Avenue, Surrey Lane Estates, Bergenfield, Bergen County, New Jersey, 07621, United States                                            |44.23        |59       |\n",
            "|232    |2024-07-06 00:18:47|2024-07-06 00:54:17|147, 68th Street, Bay Ridge, Brooklyn, Kings County, City of New York, New York, 11220, United States                                                |Pennsylvania Avenue, Kearny Point, Kearny, Hudson County, New Jersey, 07032, United States                                                      |43.21        |59       |\n",
            "|326    |2024-07-08 05:09:02|2024-07-08 05:31:12|12, Grandview Place, Clifton, Passaic County, New Jersey, 07011, United States                                                                       |7, Chovet Terrace, Surrey Lane Estates, Bergenfield, Bergen County, New Jersey, 07621, United States                                            |43.24        |59       |\n",
            "|183    |2024-07-04 22:17:25|2024-07-04 22:44:34|1155, Summit Avenue, Teaneck Township, Bergen County, New Jersey, 07666, United States                                                               |83, Pretoria Street, Passaic, Passaic County, New Jersey, 07055, United States                                                                  |42.49        |59       |\n",
            "|309    |2024-07-07 19:01:09|2024-07-07 19:27:14|29-05, Shore Road, Douglas Manor, Queens, Queens County, City of New York, New York, 11363, United States                                            |St Michael's Avenue, Queens, Queens County, City of New York, New York, 11370, United States                                                    |43.37        |59       |\n",
            "|298    |2024-07-07 12:29:50|2024-07-07 12:47:44|54, Nassau Avenue, Inwood, Town of Hempstead, Nassau County, New York, 11096, United States                                                          |88-12, 151st Avenue, Queens, Queens County, City of New York, New York, 11414, United States                                                    |44.3         |59       |\n",
            "|369    |2024-07-12 08:11:37|2024-07-12 09:06:30|Winfield Avenue, Jersey City, Hudson County, New Jersey, 07305, United States                                                                        |Belt Parkway, Fort Hamilton, Brooklyn, Kings County, City of New York, New York, 11209, United States                                           |43.53        |59       |\n",
            "|70     |2024-07-02 08:57:45|2024-07-02 09:15:24|Riverside Walk, Bloomingdale, Upper West Side, Manhattan, New York County, City of New York, New York, 10205, United States                          |22-38, 38th Street, Steinway, Queens, Queens County, City of New York, New York, 11105, United States                                           |42.77        |59       |\n",
            "+-------+-------------------+-------------------+-----------------------------------------------------------------------------------------------------------------------------------------------------+------------------------------------------------------------------------------------------------------------------------------------------------+-------------+---------+\n",
            "only showing top 20 rows\n",
            "\n"
          ]
        }
      ]
    },
    {
      "cell_type": "code",
      "execution_count": 137,
      "metadata": {
        "id": "TidZ0rQ55qiU"
      },
      "outputs": [],
      "source": [
        "# Export the final result to CSV\n",
        "final_result.orderBy(['trip_start_dttm', 'trip_id']).coalesce(1).write.csv('content/result.csv')"
      ]
    }
  ],
  "metadata": {
    "colab": {
      "provenance": []
    },
    "kernelspec": {
      "display_name": "Python 3",
      "name": "python3"
    },
    "language_info": {
      "name": "python"
    }
  },
  "nbformat": 4,
  "nbformat_minor": 0
}